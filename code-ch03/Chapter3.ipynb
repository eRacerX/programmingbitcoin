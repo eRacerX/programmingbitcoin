{
 "cells": [
  {
   "cell_type": "code",
   "execution_count": 1,
   "metadata": {},
   "outputs": [],
   "source": [
    "############## PLEASE RUN THIS CELL FIRST! ###################\n",
    "\n",
    "# import everything and define a test runner function\n",
    "from importlib import reload\n",
    "from helper import run\n",
    "import ecc\n",
    "import helper\n",
    "\n",
    "from ecc import FieldElement, Point"
   ]
  },
  {
   "cell_type": "markdown",
   "metadata": {},
   "source": [
    "### Exercise 1\n",
    "\n",
    "Evaluate whether these points are on the curve \\\\(y^{2}\\\\)=\\\\(x^{3}\\\\)+7 over \\\\(F_{223}\\\\)\n",
    "\n",
    "(192,105), (17,56), (200,119), (1,193), (42,99)"
   ]
  },
  {
   "cell_type": "code",
   "execution_count": 2,
   "metadata": {},
   "outputs": [
    {
     "name": "stdout",
     "output_type": "stream",
     "text": [
      "Point(192,105)_0_7 FieldElement(223)\n",
      "Point(17,56)_0_7 FieldElement(223)\n"
     ]
    },
    {
     "ename": "ValueError",
     "evalue": "(FieldElement_223(200), FieldElement_223(119)) is not on the curve",
     "output_type": "error",
     "traceback": [
      "\u001b[0;31m---------------------------------------------------------------------------\u001b[0m",
      "\u001b[0;31mValueError\u001b[0m                                Traceback (most recent call last)",
      "Cell \u001b[0;32mIn[2], line 22\u001b[0m\n\u001b[1;32m     20\u001b[0m x\u001b[38;5;241m=\u001b[39mFieldElement(\u001b[38;5;241m200\u001b[39m,prime)\n\u001b[1;32m     21\u001b[0m y\u001b[38;5;241m=\u001b[39mFieldElement(\u001b[38;5;241m119\u001b[39m,prime)\n\u001b[0;32m---> 22\u001b[0m \u001b[38;5;28mprint\u001b[39m(\u001b[43mPoint\u001b[49m\u001b[43m(\u001b[49m\u001b[43mx\u001b[49m\u001b[43m,\u001b[49m\u001b[43my\u001b[49m\u001b[43m,\u001b[49m\u001b[43ma\u001b[49m\u001b[43m,\u001b[49m\u001b[43mb\u001b[49m\u001b[43m)\u001b[49m)\n\u001b[1;32m     24\u001b[0m \u001b[38;5;66;03m# (1,193) check\u001b[39;00m\n\u001b[1;32m     25\u001b[0m x\u001b[38;5;241m=\u001b[39mFieldElement(\u001b[38;5;241m1\u001b[39m,prime)\n",
      "File \u001b[0;32m~/programmingbitcoin/code-ch03/ecc.py:145\u001b[0m, in \u001b[0;36mPoint.__init__\u001b[0;34m(self, x, y, a, b)\u001b[0m\n\u001b[1;32m    143\u001b[0m     \u001b[38;5;28;01mreturn\u001b[39;00m\n\u001b[1;32m    144\u001b[0m \u001b[38;5;28;01mif\u001b[39;00m \u001b[38;5;28mself\u001b[39m\u001b[38;5;241m.\u001b[39my\u001b[38;5;241m*\u001b[39m\u001b[38;5;241m*\u001b[39m\u001b[38;5;241m2\u001b[39m \u001b[38;5;241m!=\u001b[39m \u001b[38;5;28mself\u001b[39m\u001b[38;5;241m.\u001b[39mx\u001b[38;5;241m*\u001b[39m\u001b[38;5;241m*\u001b[39m\u001b[38;5;241m3\u001b[39m \u001b[38;5;241m+\u001b[39m a \u001b[38;5;241m*\u001b[39m x \u001b[38;5;241m+\u001b[39m b:\n\u001b[0;32m--> 145\u001b[0m     \u001b[38;5;28;01mraise\u001b[39;00m \u001b[38;5;167;01mValueError\u001b[39;00m(\u001b[38;5;124m'\u001b[39m\u001b[38;5;124m(\u001b[39m\u001b[38;5;132;01m{}\u001b[39;00m\u001b[38;5;124m, \u001b[39m\u001b[38;5;132;01m{}\u001b[39;00m\u001b[38;5;124m) is not on the curve\u001b[39m\u001b[38;5;124m'\u001b[39m\u001b[38;5;241m.\u001b[39mformat(x, y))\n",
      "\u001b[0;31mValueError\u001b[0m: (FieldElement_223(200), FieldElement_223(119)) is not on the curve"
     ]
    }
   ],
   "source": [
    "# Exercise 1\n",
    "\n",
    "prime = 223\n",
    "a = FieldElement(0, prime)\n",
    "b = FieldElement(7, prime)\n",
    "\n",
    "# (192,105), (17,56), (200,119), (1,193), (42,99)\n",
    "\n",
    "# (192,105) check\n",
    "x=FieldElement(192,prime)\n",
    "y=FieldElement(105,prime)\n",
    "print(Point(x,y,a,b))\n",
    "\n",
    "# (17,56) check\n",
    "x=FieldElement(17,prime)\n",
    "y=FieldElement(56,prime)\n",
    "print(Point(x,y,a,b))\n",
    "\n",
    "# (200,119) check\n",
    "x=FieldElement(200,prime)\n",
    "y=FieldElement(119,prime)\n",
    "print(Point(x,y,a,b))\n",
    "\n",
    "# (1,193) check\n",
    "x=FieldElement(1,prime)\n",
    "y=FieldElement(193,prime)\n",
    "print(Point(x,y,a,b))\n",
    "\n",
    "# (42,99) check\n",
    "x=FieldElement(42,prime)\n",
    "y=FieldElement(99,prime)\n",
    "print(Point(x,y,a,b))"
   ]
  },
  {
   "cell_type": "code",
   "execution_count": 6,
   "metadata": {},
   "outputs": [
    {
     "name": "stdout",
     "output_type": "stream",
     "text": [
      "Point(192,105)_0_7 FieldElement(223)\n"
     ]
    }
   ],
   "source": [
    "from ecc import FieldElement, Point\n",
    "a = FieldElement(num=0, prime=223)\n",
    "b = FieldElement(num=7, prime=223)\n",
    "x = FieldElement(num=192, prime=223)\n",
    "y = FieldElement(num=105, prime=223)\n",
    "p1 = Point(x, y, a, b)\n",
    "print(p1)"
   ]
  },
  {
   "cell_type": "code",
   "execution_count": 7,
   "metadata": {},
   "outputs": [
    {
     "name": "stdout",
     "output_type": "stream",
     "text": [
      "Point(170,142)_0_7 FieldElement(223)\n"
     ]
    }
   ],
   "source": [
    "from ecc import FieldElement, Point\n",
    "prime = 223\n",
    "a = FieldElement(num=0, prime=prime)\n",
    "b = FieldElement(num=7, prime=prime)\n",
    "x1 = FieldElement(num=192, prime=prime)\n",
    "y1 = FieldElement(num=105, prime=prime)\n",
    "x2 = FieldElement(num=17, prime=prime)\n",
    "y2 = FieldElement(num=56, prime=prime)\n",
    "p1 = Point(x1, y1, a, b)\n",
    "p2 = Point(x2, y2, a, b)\n",
    "print(p1+p2)"
   ]
  },
  {
   "cell_type": "markdown",
   "metadata": {},
   "source": [
    "### Exercise 2\n",
    "\n",
    "For the curve \\\\(y^{2}\\\\)=\\\\(x^{3}\\\\)+7 over \\\\(F_{223}\\\\), find:\n",
    "\n",
    "* (170,142) + (60,139)\n",
    "* (47,71) + (17,56)\n",
    "* (143,98) + (76,66)"
   ]
  },
  {
   "cell_type": "code",
   "execution_count": 8,
   "metadata": {},
   "outputs": [
    {
     "name": "stdout",
     "output_type": "stream",
     "text": [
      "Point(220,181)_0_7 FieldElement(223)\n",
      "Point(215,68)_0_7 FieldElement(223)\n",
      "Point(47,71)_0_7 FieldElement(223)\n"
     ]
    }
   ],
   "source": [
    "# Exercise 2\n",
    "\n",
    "prime = 223\n",
    "a = FieldElement(0, prime)\n",
    "b = FieldElement(7, prime)\n",
    "\n",
    "# (170,142) + (60,139)\n",
    "# (47,71) + (17,56)\n",
    "# (143,98) + (76,66)\n",
    "\n",
    "# (170,142) + (60,139)\n",
    "x1=FieldElement(170,prime)\n",
    "y1=FieldElement(142,prime)\n",
    "p1=Point(x1,y1,a,b)\n",
    "x2=FieldElement(60,prime)\n",
    "y2=FieldElement(139,prime)\n",
    "p2=Point(x2,y2,a,b)\n",
    "print(p1+p2)\n",
    "\n",
    "# (47,71) + (17,56)\n",
    "p1 = Point(FieldElement(47, prime), FieldElement(71, prime), a, b)\n",
    "p2 = Point(FieldElement(17, prime), FieldElement(56, prime), a, b)\n",
    "print(p1+p2)\n",
    "\n",
    "# (143,98) + (76,66)\n",
    "p1 = Point(FieldElement(143, prime), FieldElement(98, prime), a, b)\n",
    "p2 = Point(FieldElement(76, prime), FieldElement(66, prime), a, b)\n",
    "print(p1+p2)"
   ]
  },
  {
   "cell_type": "markdown",
   "metadata": {},
   "source": [
    "### Exercise 3\n",
    "\n",
    "Extend `ECCTest` to test for the additions from the previous exercise. Call this `test_add`.\n",
    "\n",
    "#### Make [this test](/edit/code-ch03/ecc.py) pass: `ecc.py:ECCTest:test_add`"
   ]
  },
  {
   "cell_type": "code",
   "execution_count": 17,
   "metadata": {},
   "outputs": [
    {
     "name": "stderr",
     "output_type": "stream",
     "text": [
      ".\n",
      "----------------------------------------------------------------------\n",
      "Ran 1 test in 0.001s\n",
      "\n",
      "OK\n"
     ]
    }
   ],
   "source": [
    "# Exercise 3\n",
    "\n",
    "reload(ecc)\n",
    "run(ecc.ECCTest(\"test_add\"))"
   ]
  },
  {
   "cell_type": "markdown",
   "metadata": {},
   "source": [
    "### Exercise 4\n",
    "\n",
    "For the curve \\\\(y^{2}\\\\)=\\\\(x^{3}\\\\)+7 over \\\\(F_{223}\\\\), find:\n",
    "\n",
    "* 2⋅(192,105)\n",
    "* 2⋅(143,98)\n",
    "* 2⋅(47,71)\n",
    "* 4⋅(47,71)\n",
    "* 8⋅(47,71)\n",
    "* 21⋅(47,71)"
   ]
  },
  {
   "cell_type": "code",
   "execution_count": 6,
   "metadata": {},
   "outputs": [
    {
     "name": "stdout",
     "output_type": "stream",
     "text": [
      "Point(49,71)_0_7 FieldElement(223)\n",
      "Point(64,168)_0_7 FieldElement(223)\n",
      "Point(36,111)_0_7 FieldElement(223)\n",
      "Point(194,51)_0_7 FieldElement(223)\n",
      "Point(116,55)_0_7 FieldElement(223)\n",
      "Point(infinity)\n"
     ]
    }
   ],
   "source": [
    "# Exercise 4\n",
    "\n",
    "prime = 223\n",
    "a = FieldElement(0, prime)\n",
    "b = FieldElement(7, prime)\n",
    "\n",
    "# 2*(192, 105)\n",
    "# 2*(143, 98)\n",
    "# 2*(47, 71)\n",
    "# 4*(47, 71)\n",
    "# 8*(47, 71)\n",
    "# 21*(47, 71)\n",
    "\n",
    "# create a product variable\n",
    "# add the point to the product n times\n",
    "# print the product\n",
    "\n",
    "def myprod(scalar, x, y):\n",
    "    x1=FieldElement(x,prime)\n",
    "    y1=FieldElement(y,prime)\n",
    "    p=Point(x1,y1,a,b)\n",
    "    product = Point(None,None,a,b)\n",
    "    for i in range(scalar):\n",
    "        product = p + product\n",
    "    print(product)\n",
    "    \n",
    "myprod(2,192,105)\n",
    "myprod(2,143,98)\n",
    "myprod(2,47,71)\n",
    "myprod(4,47,71)\n",
    "myprod(8,47,71)\n",
    "myprod(21,47,71)"
   ]
  },
  {
   "cell_type": "code",
   "execution_count": 8,
   "metadata": {},
   "outputs": [
    {
     "name": "stdout",
     "output_type": "stream",
     "text": [
      "1*(47,71)=(47,71)\n",
      "2*(47,71)=(36,111)\n",
      "3*(47,71)=(15,137)\n",
      "4*(47,71)=(194,51)\n",
      "5*(47,71)=(126,96)\n",
      "6*(47,71)=(139,137)\n",
      "7*(47,71)=(92,47)\n",
      "8*(47,71)=(116,55)\n",
      "9*(47,71)=(69,86)\n",
      "10*(47,71)=(154,150)\n",
      "11*(47,71)=(154,73)\n",
      "12*(47,71)=(69,137)\n",
      "13*(47,71)=(116,168)\n",
      "14*(47,71)=(92,176)\n",
      "15*(47,71)=(139,86)\n",
      "16*(47,71)=(126,127)\n",
      "17*(47,71)=(194,172)\n",
      "18*(47,71)=(15,86)\n",
      "19*(47,71)=(36,112)\n",
      "20*(47,71)=(47,152)\n"
     ]
    }
   ],
   "source": [
    "from ecc import FieldElement, Point\n",
    "prime = 223\n",
    "a = FieldElement(0, prime)\n",
    "b = FieldElement(7, prime)\n",
    "x = FieldElement(47, prime)\n",
    "y = FieldElement(71, prime)\n",
    "p = Point(x, y, a, b)\n",
    "for s in range(1,21):\n",
    "    result = s*p\n",
    "    print('{}*(47,71)=({},{})'.format(s,result.x.num,result.y.num))"
   ]
  },
  {
   "cell_type": "markdown",
   "metadata": {},
   "source": [
    "### Exercise 5\n",
    "\n",
    "For the curve \\\\(y^{2}\\\\)=\\\\(x^{3}\\\\)+7 over \\\\(F_{223}\\\\), find the order of the group generated by (15,86)"
   ]
  },
  {
   "cell_type": "code",
   "execution_count": 9,
   "metadata": {},
   "outputs": [
    {
     "name": "stdout",
     "output_type": "stream",
     "text": [
      "7\n"
     ]
    }
   ],
   "source": [
    "# Exercise 5\n",
    "\n",
    "prime = 223\n",
    "a = FieldElement(0, prime)\n",
    "b = FieldElement(7, prime)\n",
    "x = FieldElement(15, prime)\n",
    "y = FieldElement(86, prime)\n",
    "p = Point(x, y, a, b)\n",
    "inf = Point(None, None, a, b)\n",
    "\n",
    "# create a product variable\n",
    "# create a counter variable\n",
    "# loop until the product is the point at infinity\n",
    "# add the point to the product and increment counter\n",
    "# print the counter when exited from loop\n",
    "product = p\n",
    "count = 1\n",
    "while product != inf:\n",
    "    product += p\n",
    "    count += 1\n",
    "print(count)"
   ]
  },
  {
   "cell_type": "code",
   "execution_count": 10,
   "metadata": {},
   "outputs": [
    {
     "name": "stdout",
     "output_type": "stream",
     "text": [
      "Point(infinity)\n"
     ]
    }
   ],
   "source": [
    "from ecc import FieldElement, Point\n",
    "prime = 223\n",
    "a = FieldElement(0, prime)\n",
    "b = FieldElement(7, prime)\n",
    "x = FieldElement(15, prime)\n",
    "y = FieldElement(86, prime)\n",
    "p = Point(x, y, a, b)\n",
    "print(7*p)"
   ]
  },
  {
   "cell_type": "code",
   "execution_count": 11,
   "metadata": {},
   "outputs": [
    {
     "name": "stdout",
     "output_type": "stream",
     "text": [
      "True\n"
     ]
    }
   ],
   "source": [
    "gx = 0x79be667ef9dcbbac55a06295ce870b07029bfcdb2dce28d959f2815b16f81798\n",
    "gy = 0x483ada7726a3c4655da4fbfc0e1108a8fd17b448a68554199c47d08ffb10d4b8\n",
    "p = 2**256 - 2**32 - 977\n",
    "print(gy**2 % p == (gx**3 + 7) % p)"
   ]
  },
  {
   "cell_type": "code",
   "execution_count": 12,
   "metadata": {},
   "outputs": [
    {
     "name": "stdout",
     "output_type": "stream",
     "text": [
      "Point(infinity)\n"
     ]
    }
   ],
   "source": [
    "from ecc import FieldElement, Point\n",
    "gx = 0x79be667ef9dcbbac55a06295ce870b07029bfcdb2dce28d959f2815b16f81798\n",
    "gy = 0x483ada7726a3c4655da4fbfc0e1108a8fd17b448a68554199c47d08ffb10d4b8\n",
    "p = 2**256 - 2**32 - 977\n",
    "n = 0xfffffffffffffffffffffffffffffffebaaedce6af48a03bbfd25e8cd0364141\n",
    "x = FieldElement(gx, p)\n",
    "y = FieldElement(gy, p)\n",
    "seven = FieldElement(7, p)\n",
    "zero = FieldElement(0, p)\n",
    "G = Point(x, y, zero, seven)\n",
    "print(n*G)"
   ]
  },
  {
   "cell_type": "code",
   "execution_count": 13,
   "metadata": {},
   "outputs": [
    {
     "name": "stdout",
     "output_type": "stream",
     "text": [
      "S256Point(infinity)\n"
     ]
    }
   ],
   "source": [
    "from ecc import G, N\n",
    "print(N*G)"
   ]
  },
  {
   "cell_type": "code",
   "execution_count": 11,
   "metadata": {},
   "outputs": [
    {
     "name": "stdout",
     "output_type": "stream",
     "text": [
      "True\n"
     ]
    }
   ],
   "source": [
    "from ecc import S256Point, G, N\n",
    "z = 0xbc62d4b80d9e36da29c16c5d4d9f11731f36052c72401a76c23c0fb5a9b74423\n",
    "r = 0x37206a0610995c58074999cb9767b87af4c4978db68c06e8e6e81d282047a7c6\n",
    "s = 0x8ca63759c1157ebeaec0d03cecca119fc9a75bf8e6d0fa65c841c8e2738cdaec\n",
    "px = 0x04519fac3d910ca7e7138f7013706f619fa8f033e6ec6e09370ea38cee6a7574\n",
    "py = 0x82b51eab8c27c66e26c858a079bcdf4f1ada34cec420cafc7eac1a42216fb6c4\n",
    "point = S256Point(px, py)\n",
    "s_inv = pow(s, N-2, N)\n",
    "u = z * s_inv % N\n",
    "v = r * s_inv % N\n",
    "print((u*G + v*point).x.num == r)"
   ]
  },
  {
   "cell_type": "markdown",
   "metadata": {},
   "source": [
    "### Exercise 6\n",
    "\n",
    "Verify whether these signatures are valid:\n",
    "\n",
    "```\n",
    "P = (0x887387e452b8eacc4acfde10d9aaf7f6d9a0f975aabb10d006e4da568744d06c,\n",
    "0x61de6d95231cd89026e286df3b6ae4a894a3378e393e93a0f45b666329a0ae34)\n",
    "\n",
    "# signature 1\n",
    "z = 0xec208baa0fc1c19f708a9ca96fdeff3ac3f230bb4a7ba4aede4942ad003c0f60\n",
    "r = 0xac8d1c87e51d0d441be8b3dd5b05c8795b48875dffe00b7ffcfac23010d3a395\n",
    "s = 0x68342ceff8935ededd102dd876ffd6ba72d6a427a3edb13d26eb0781cb423c4\n",
    "\n",
    "# signature 2\n",
    "z = 0x7c076ff316692a3d7eb3c3bb0f8b1488cf72e1afcd929e29307032997a838a3d\n",
    "r = 0xeff69ef2b1bd93a66ed5219add4fb51e11a840f404876325a1e8ffe0529a2c\n",
    "s = 0xc7207fee197d27c618aea621406f6bf5ef6fca38681d82b2f06fddbdce6feab6\n",
    "```"
   ]
  },
  {
   "cell_type": "code",
   "execution_count": 14,
   "metadata": {},
   "outputs": [
    {
     "name": "stdout",
     "output_type": "stream",
     "text": [
      "True\n",
      "True\n"
     ]
    }
   ],
   "source": [
    "# Exercise 6\n",
    "\n",
    "point = S256Point(\n",
    "    0x887387e452b8eacc4acfde10d9aaf7f6d9a0f975aabb10d006e4da568744d06c, \n",
    "    0x61de6d95231cd89026e286df3b6ae4a894a3378e393e93a0f45b666329a0ae34)\n",
    "# signature 1\n",
    "z = 0xec208baa0fc1c19f708a9ca96fdeff3ac3f230bb4a7ba4aede4942ad003c0f60\n",
    "r = 0xac8d1c87e51d0d441be8b3dd5b05c8795b48875dffe00b7ffcfac23010d3a395\n",
    "s = 0x68342ceff8935ededd102dd876ffd6ba72d6a427a3edb13d26eb0781cb423c4\n",
    "\n",
    "s_inv = pow(s, N-2, N)\n",
    "u = z * s_inv % N\n",
    "v = r * s_inv % N\n",
    "print((u*G + v*point).x.num == r)\n",
    "\n",
    "\n",
    "\n",
    "# signature 2\n",
    "z = 0x7c076ff316692a3d7eb3c3bb0f8b1488cf72e1afcd929e29307032997a838a3d\n",
    "r = 0xeff69ef2b1bd93a66ed5219add4fb51e11a840f404876325a1e8ffe0529a2c\n",
    "s = 0xc7207fee197d27c618aea621406f6bf5ef6fca38681d82b2f06fddbdce6feab6\n",
    "\n",
    "s_inv = pow(s, N-2, N)\n",
    "u = z * s_inv % N\n",
    "v = r * s_inv % N\n",
    "print((u*G + v*point).x.num == r)"
   ]
  },
  {
   "cell_type": "code",
   "execution_count": 28,
   "metadata": {},
   "outputs": [
    {
     "name": "stdout",
     "output_type": "stream",
     "text": [
      "S256Point(028d003eab2e428d11983f3e97c3fa0addf3b42740df0d211795ffb3be2f6c52, 0ae987b9ec6ea159c78cb2a937ed89096fb218d9e7594f02b547526d8cd309e2)\n",
      "0x231c6f3d980a6b0fb7152f85cee7eb52bf92433d9919b9c5218cb08e79cce78\n",
      "0x2b698a0f0a4041b77e63488ad48c23e8e8838dd1fb7520408b121697b782ef22\n",
      "0xbb14e602ef9e3f872e25fad328466b34e6734b7a0fcd58b1eb635447ffae8cb9\n"
     ]
    }
   ],
   "source": [
    "from ecc import S256Point, G, N\n",
    "from helper import hash256\n",
    "e = int.from_bytes(hash256(b'my secret'), 'big')\n",
    "z = int.from_bytes(hash256(b'my message'), 'big')\n",
    "k = 1234567890\n",
    "r = (k*G).x.num\n",
    "k_inv = pow(k, N-2, N)\n",
    "s = (z+r*e) * k_inv % N\n",
    "point = e*G\n",
    "print(point)\n",
    "print(hex(z))\n",
    "print(hex(r))\n",
    "print(hex(s))"
   ]
  },
  {
   "cell_type": "markdown",
   "metadata": {},
   "source": [
    "### Exercise 7\n",
    "\n",
    "Sign the following message with the secret\n",
    "\n",
    "```\n",
    "e = 12345\n",
    "z = int.from_bytes(hash256('Programming Bitcoin!'), 'big')\n",
    "```"
   ]
  },
  {
   "cell_type": "code",
   "execution_count": 54,
   "metadata": {},
   "outputs": [
    {
     "name": "stdout",
     "output_type": "stream",
     "text": [
      "S256Point(f01d6b9018ab421dd410404cb869072065522bf85734008f105cf385a023a80f, 0eba29d0f0c5408ed681984dc525982abefccd9f7ff01dd26da4999cf3f6a295)\n"
     ]
    }
   ],
   "source": [
    "# Exercise 7\n",
    "\n",
    "e = 12345\n",
    "z = int.from_bytes(hash256(b'Programming Bitcoin!'), 'big')\n",
    "\n",
    "# choose a random k\n",
    "# calculate r (kG's x-coordinate)\n",
    "# calculate s ((z+re)/k)\n",
    "# print the point, z, r and s\n",
    "\n",
    "from ecc import S256Point, G, N\n",
    "from helper import hash256\n",
    "k = 1234567890\n",
    "r = (k*G).x.num\n",
    "k_inv = pow(k, N-2, N)\n",
    "s = (z+r*e) * k_inv % N\n",
    "print(e*G)"
   ]
  },
  {
   "cell_type": "code",
   "execution_count": 55,
   "metadata": {},
   "outputs": [
    {
     "data": {
      "text/plain": [
       "19635924277356798752105674083697999930996555344818160161847497917044432760610"
      ]
     },
     "execution_count": 55,
     "metadata": {},
     "output_type": "execute_result"
    }
   ],
   "source": [
    "r"
   ]
  },
  {
   "cell_type": "code",
   "execution_count": null,
   "metadata": {},
   "outputs": [],
   "source": []
  },
  {
   "cell_type": "code",
   "execution_count": null,
   "metadata": {},
   "outputs": [],
   "source": []
  },
  {
   "cell_type": "code",
   "execution_count": null,
   "metadata": {},
   "outputs": [],
   "source": []
  },
  {
   "cell_type": "code",
   "execution_count": null,
   "metadata": {},
   "outputs": [],
   "source": []
  },
  {
   "cell_type": "code",
   "execution_count": null,
   "metadata": {},
   "outputs": [],
   "source": []
  },
  {
   "cell_type": "code",
   "execution_count": null,
   "metadata": {},
   "outputs": [],
   "source": []
  },
  {
   "cell_type": "code",
   "execution_count": null,
   "metadata": {},
   "outputs": [],
   "source": []
  },
  {
   "cell_type": "code",
   "execution_count": null,
   "metadata": {},
   "outputs": [],
   "source": []
  },
  {
   "cell_type": "code",
   "execution_count": 17,
   "metadata": {},
   "outputs": [
    {
     "data": {
      "text/plain": [
       "68128520874913546745294642417570923341793882471965920093685935829550641843528"
      ]
     },
     "execution_count": 17,
     "metadata": {},
     "output_type": "execute_result"
    }
   ],
   "source": [
    "z"
   ]
  },
  {
   "cell_type": "code",
   "execution_count": 20,
   "metadata": {},
   "outputs": [
    {
     "name": "stdout",
     "output_type": "stream",
     "text": [
      "b'\\x96\\x9f`V\\xaa&\\xf7\\xd2y_\\xd0\\x13\\xfe\\x88\\x86\\x8d\\t\\xc9\\xf6\\xae\\xd9ie\\x01n\\x196\\xaeG\\x06\\rH'\n"
     ]
    }
   ],
   "source": [
    "print(hash256(b'Programming Bitcoin!'))"
   ]
  },
  {
   "cell_type": "code",
   "execution_count": 27,
   "metadata": {},
   "outputs": [
    {
     "name": "stdout",
     "output_type": "stream",
     "text": [
      "68128520874913546745294642417570923341793882471965920093685935829550641843528\n"
     ]
    }
   ],
   "source": [
    "print(int.from_bytes(hash256(b'Programming Bitcoin!'), 'big'))"
   ]
  },
  {
   "cell_type": "code",
   "execution_count": 24,
   "metadata": {},
   "outputs": [
    {
     "ename": "TypeError",
     "evalue": "Strings must be encoded before hashing",
     "output_type": "error",
     "traceback": [
      "\u001b[0;31m---------------------------------------------------------------------------\u001b[0m",
      "\u001b[0;31mTypeError\u001b[0m                                 Traceback (most recent call last)",
      "Cell \u001b[0;32mIn[24], line 1\u001b[0m\n\u001b[0;32m----> 1\u001b[0m \u001b[43mhash256\u001b[49m\u001b[43m(\u001b[49m\u001b[38;5;124;43m'\u001b[39;49m\u001b[38;5;124;43m213\u001b[39;49m\u001b[38;5;124;43m'\u001b[39;49m\u001b[43m)\u001b[49m\n",
      "File \u001b[0;32m~/programmingbitcoin/code-ch03/helper.py:14\u001b[0m, in \u001b[0;36mhash256\u001b[0;34m(s)\u001b[0m\n\u001b[1;32m     12\u001b[0m \u001b[38;5;28;01mdef\u001b[39;00m \u001b[38;5;21mhash256\u001b[39m(s):\n\u001b[1;32m     13\u001b[0m     \u001b[38;5;124;03m'''two rounds of sha256'''\u001b[39;00m\n\u001b[0;32m---> 14\u001b[0m     \u001b[38;5;28;01mreturn\u001b[39;00m hashlib\u001b[38;5;241m.\u001b[39msha256(\u001b[43mhashlib\u001b[49m\u001b[38;5;241;43m.\u001b[39;49m\u001b[43msha256\u001b[49m\u001b[43m(\u001b[49m\u001b[43ms\u001b[49m\u001b[43m)\u001b[49m\u001b[38;5;241m.\u001b[39mdigest())\u001b[38;5;241m.\u001b[39mdigest()\n",
      "\u001b[0;31mTypeError\u001b[0m: Strings must be encoded before hashing"
     ]
    }
   ],
   "source": [
    "hash256('213')"
   ]
  },
  {
   "cell_type": "code",
   "execution_count": 31,
   "metadata": {},
   "outputs": [
    {
     "name": "stdout",
     "output_type": "stream",
     "text": [
      "2b698a0f0a4041b77e63488ad48c23e8e8838dd1fb7520408b121697b782ef22\n"
     ]
    },
    {
     "data": {
      "text/plain": [
       "19635924277356798752105674083697999930996555344818160161847497917044432760610"
      ]
     },
     "execution_count": 31,
     "metadata": {},
     "output_type": "execute_result"
    }
   ],
   "source": [
    "print((k*G).x)\n",
    "(k*G).x.num"
   ]
  },
  {
   "cell_type": "code",
   "execution_count": 37,
   "metadata": {},
   "outputs": [
    {
     "data": {
      "text/plain": [
       "19635924277356798752105674083697999930996555344818160161847497917044432760610"
      ]
     },
     "execution_count": 37,
     "metadata": {},
     "output_type": "execute_result"
    }
   ],
   "source": [
    "0x2b698a0f0a4041b77e63488ad48c23e8e8838dd1fb7520408b121697b782ef22"
   ]
  },
  {
   "cell_type": "code",
   "execution_count": 40,
   "metadata": {},
   "outputs": [
    {
     "ename": "SyntaxError",
     "evalue": "unexpected character after line continuation character (2162208755.py, line 1)",
     "output_type": "error",
     "traceback": [
      "\u001b[0;36m  Cell \u001b[0;32mIn[40], line 1\u001b[0;36m\u001b[0m\n\u001b[0;31m    \\x96\\\u001b[0m\n\u001b[0m     ^\u001b[0m\n\u001b[0;31mSyntaxError\u001b[0m\u001b[0;31m:\u001b[0m unexpected character after line continuation character\n"
     ]
    }
   ],
   "source": []
  },
  {
   "cell_type": "code",
   "execution_count": 42,
   "metadata": {},
   "outputs": [
    {
     "data": {
      "text/plain": [
       "150"
      ]
     },
     "execution_count": 42,
     "metadata": {},
     "output_type": "execute_result"
    }
   ],
   "source": [
    "int.from_bytes(b'\\x96','big')"
   ]
  },
  {
   "cell_type": "code",
   "execution_count": 47,
   "metadata": {},
   "outputs": [
    {
     "data": {
      "text/plain": [
       "459271251283399734986730288835468045821317574177"
      ]
     },
     "execution_count": 47,
     "metadata": {},
     "output_type": "execute_result"
    }
   ],
   "source": [
    "int.from_bytes(b'Programming Bitcoin!','big')"
   ]
  },
  {
   "cell_type": "code",
   "execution_count": 93,
   "metadata": {},
   "outputs": [
    {
     "name": "stdout",
     "output_type": "stream",
     "text": [
      "S256Point(028d003eab2e428d11983f3e97c3fa0addf3b42740df0d211795ffb3be2f6c52, 0ae987b9ec6ea159c78cb2a937ed89096fb218d9e7594f02b547526d8cd309e2)\n",
      "0x231c6f3d980a6b0fb7152f85cee7eb52bf92433d9919b9c5218cb08e79cce78\n",
      "0x2b698a0f0a4041b77e63488ad48c23e8e8838dd1fb7520408b121697b782ef22\n",
      "0xbb14e602ef9e3f872e25fad328466b34e6734b7a0fcd58b1eb635447ffae8cb9\n",
      "0x2b698a0f0a4041b77e63488ad48c23e8e8838dd1fb7520408b121697b782ef22\n",
      "True\n"
     ]
    }
   ],
   "source": [
    "from ecc import S256Point, G, N\n",
    "from helper import hash256\n",
    "e = int.from_bytes(hash256(b'my secret'), 'big')\n",
    "z = int.from_bytes(hash256(b'my message'), 'big')\n",
    "k = 1234567890\n",
    "r = (k*G).x.num\n",
    "k_inv = pow(k, N-2, N)\n",
    "s = (z+r*e) * k_inv % N\n",
    "point = e*G\n",
    "print(point)\n",
    "print(hex(z))\n",
    "print(hex(r))\n",
    "print(hex(s))\n",
    "s_inv = pow(s, N-2, N)\n",
    "u = z*s_inv\n",
    "v=r*s_inv\n",
    "test = u*G + v*point\n",
    "print(hex(test.x.num))\n",
    "print(r == test.x.num)"
   ]
  },
  {
   "cell_type": "code",
   "execution_count": 96,
   "metadata": {},
   "outputs": [
    {
     "data": {
      "text/plain": [
       "S256Point(2b698a0f0a4041b77e63488ad48c23e8e8838dd1fb7520408b121697b782ef22, 2ee976351a7fe808101c7e79b040e5cb16afe6aa152b87e398d160c306a31bac)"
      ]
     },
     "execution_count": 96,
     "metadata": {},
     "output_type": "execute_result"
    }
   ],
   "source": [
    "(k*G)"
   ]
  },
  {
   "cell_type": "code",
   "execution_count": 97,
   "metadata": {},
   "outputs": [
    {
     "data": {
      "text/plain": [
       "2b698a0f0a4041b77e63488ad48c23e8e8838dd1fb7520408b121697b782ef22"
      ]
     },
     "execution_count": 97,
     "metadata": {},
     "output_type": "execute_result"
    }
   ],
   "source": [
    "(k*G).x"
   ]
  },
  {
   "cell_type": "code",
   "execution_count": null,
   "metadata": {},
   "outputs": [],
   "source": []
  }
 ],
 "metadata": {
  "kernelspec": {
   "display_name": "Python 3 (ipykernel)",
   "language": "python",
   "name": "python3"
  },
  "language_info": {
   "codemirror_mode": {
    "name": "ipython",
    "version": 3
   },
   "file_extension": ".py",
   "mimetype": "text/x-python",
   "name": "python",
   "nbconvert_exporter": "python",
   "pygments_lexer": "ipython3",
   "version": "3.10.9"
  }
 },
 "nbformat": 4,
 "nbformat_minor": 2
}
