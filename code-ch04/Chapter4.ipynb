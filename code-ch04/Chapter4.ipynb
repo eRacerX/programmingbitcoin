{
 "cells": [
  {
   "cell_type": "code",
   "execution_count": 36,
   "metadata": {},
   "outputs": [],
   "source": [
    "############## PLEASE RUN THIS CELL FIRST! ###################\n",
    "\n",
    "# import everything and define a test runner function\n",
    "from importlib import reload\n",
    "from helper import run\n",
    "import ecc\n",
    "import helper"
   ]
  },
  {
   "cell_type": "markdown",
   "metadata": {},
   "source": [
    "### Exercise 1\n",
    "\n",
    "Find the uncompressed SEC format for the Public Key where the Private Key secrets are:\n",
    "\n",
    "* 5000\n",
    "* \\\\(2018^{5}\\\\)\n",
    "* 0xdeadbeef12345"
   ]
  },
  {
   "cell_type": "code",
   "execution_count": 106,
   "metadata": {},
   "outputs": [
    {
     "name": "stdout",
     "output_type": "stream",
     "text": [
      "FieldElement_223(5)\n",
      "00000000000000000000000000000000000000000000000000000000000001f4\n",
      "number in hex is 1f4\n",
      "b'\\x00d'\n",
      "d\n",
      "0x64\n"
     ]
    }
   ],
   "source": [
    "fe = FieldElement(5, 223)\n",
    "fe2 = S256Field(500)\n",
    "\n",
    "print(fe)\n",
    "print(fe2)\n",
    "\n",
    "priv = PrivateKey(500)\n",
    "priv.hex()\n",
    "\n",
    "x=500\n",
    "print('number in hex is {:x}'.format(x))\n",
    "\n",
    "a=100\n",
    "print(a.to_bytes(2,'big'))\n",
    "\n",
    "print(chr(0x64))\n",
    "\n",
    "print(hex(a))"
   ]
  },
  {
   "cell_type": "code",
   "execution_count": 129,
   "metadata": {},
   "outputs": [
    {
     "name": "stdout",
     "output_type": "stream",
     "text": [
      "4\n",
      "0b100\n",
      "0\n",
      "100\n"
     ]
    },
    {
     "data": {
      "text/plain": [
       "str"
      ]
     },
     "execution_count": 129,
     "metadata": {},
     "output_type": "execute_result"
    }
   ],
   "source": [
    "b = 0b0100\n",
    "\n",
    "print(b)\n",
    "c=bin(b)\n",
    "\n",
    "print(c)\n",
    "print(c[0])\n",
    "print(c[2:5])\n",
    "type(c)"
   ]
  },
  {
   "cell_type": "code",
   "execution_count": 156,
   "metadata": {},
   "outputs": [
    {
     "name": "stdout",
     "output_type": "stream",
     "text": [
      "4\n",
      "/\n"
     ]
    }
   ],
   "source": [
    "c=b'\\x04'\n",
    "print(c[0])\n",
    "print(chr(0x2f))"
   ]
  },
  {
   "cell_type": "code",
   "execution_count": 157,
   "metadata": {},
   "outputs": [
    {
     "name": "stdout",
     "output_type": "stream",
     "text": [
      "04ffe558e388852f0120e46af2d1b370f85854a8eb0841811ece0e3e03d282d57c315dc72890a4f10a1481c031b03b351b0dc79901ca18a00cf009dbdb157a1d10\n",
      "04027f3da1918455e03c46f659266a1bb5204e959db7364d2f473bdf8f0a13cc9dff87647fd023c13b4a4994f17691895806e1b40b57f4fd22581a4f46851f3b06\n",
      "04d90cd625ee87dd38656dd95cf79f65f60f7273b67d3096e68bd81e4f5342691f842efa762fd59961d0e99803c61edba8b3e3f7dc3a341836f97733aebf987121\n"
     ]
    }
   ],
   "source": [
    "# Exercise 1\n",
    "\n",
    "from ecc import PrivateKey\n",
    "\n",
    "# 5000\n",
    "# 2018**5\n",
    "# 0xdeadbeef12345\n",
    "# privatekey.point is the public key for a private key\n",
    "\n",
    "# b'\\x04' + self.x.num.to_bytes(32, 'big') + self.y.num.to_bytes(32, 'big')\n",
    "\n",
    "#1\n",
    "priv = PrivateKey(5000)\n",
    "print(priv.point.sec(compressed=False).hex())\n",
    "# print(priv.point.sec(compressed=False))\n",
    "#2\n",
    "priv = PrivateKey(2018**5)\n",
    "print(priv.point.sec(compressed=False).hex())\n",
    "#3\n",
    "priv = PrivateKey(0xdeadbeef12345)\n",
    "print(priv.point.sec(compressed=False).hex())"
   ]
  },
  {
   "cell_type": "code",
   "execution_count": 3,
   "metadata": {},
   "outputs": [
    {
     "name": "stdout",
     "output_type": "stream",
     "text": [
      "S256Point(d90cd625ee87dd38656dd95cf79f65f60f7273b67d3096e68bd81e4f5342691f, 842efa762fd59961d0e99803c61edba8b3e3f7dc3a341836f97733aebf987121)\n",
      "b'\\x04\\xd9\\x0c\\xd6%\\xee\\x87\\xdd8em\\xd9\\\\\\xf7\\x9fe\\xf6\\x0frs\\xb6}0\\x96\\xe6\\x8b\\xd8\\x1eOSBi\\x1f\\x84.\\xfav/\\xd5\\x99a\\xd0\\xe9\\x98\\x03\\xc6\\x1e\\xdb\\xa8\\xb3\\xe3\\xf7\\xdc:4\\x186\\xf9w3\\xae\\xbf\\x98q!'\n"
     ]
    }
   ],
   "source": [
    "priv = PrivateKey(0xdeadbeef12345)\n",
    "print(priv.point)\n",
    "print(priv.point.sec(compressed=False))"
   ]
  },
  {
   "cell_type": "markdown",
   "metadata": {},
   "source": [
    "### Exercise 2\n",
    "\n",
    "Find the Compressed SEC format for the Public Key where the Private Key secrets are:\n",
    "\n",
    "* 5001\n",
    "* \\\\(2019^{5}\\\\)\n",
    "* 0xdeadbeef54321"
   ]
  },
  {
   "cell_type": "code",
   "execution_count": 158,
   "metadata": {},
   "outputs": [
    {
     "name": "stdout",
     "output_type": "stream",
     "text": [
      "0357a4f368868a8a6d572991e484e664810ff14c05c0fa023275251151fe0e53d1\n",
      "02933ec2d2b111b92737ec12f1c5d20f3233a0ad21cd8b36d0bca7a0cfa5cb8701\n",
      "0296be5b1292f6c856b3c5654e886fc13511462059089cdf9c479623bfcbe77690\n"
     ]
    }
   ],
   "source": [
    "# Exercise 2\n",
    "\n",
    "from ecc import PrivateKey\n",
    "\n",
    "# 5001\n",
    "# 2019**5\n",
    "# 0xdeadbeef54321\n",
    "\n",
    "#1\n",
    "priv = PrivateKey(5001)\n",
    "print(priv.point.sec(compressed=True).hex())\n",
    "#2\n",
    "priv = PrivateKey(2019**5)\n",
    "print(priv.point.sec(compressed=True).hex())\n",
    "#3\n",
    "priv = PrivateKey(0xdeadbeef54321)\n",
    "print(priv.point.sec(compressed=True).hex())"
   ]
  },
  {
   "cell_type": "markdown",
   "metadata": {},
   "source": [
    "### Exercise 3\n",
    "\n",
    "Find the DER format for a signature whose `r` and `s` values are:\n",
    "\n",
    "* r =\n",
    "\n",
    "`0x37206a0610995c58074999cb9767b87af4c4978db68c06e8e6e81d282047a7c6`\n",
    "\n",
    "* s =\n",
    "\n",
    "`0x8ca63759c1157ebeaec0d03cecca119fc9a75bf8e6d0fa65c841c8e2738cdaec`"
   ]
  },
  {
   "cell_type": "code",
   "execution_count": 1,
   "metadata": {},
   "outputs": [
    {
     "name": "stdout",
     "output_type": "stream",
     "text": [
      "3045022037206a0610995c58074999cb9767b87af4c4978db68c06e8e6e81d282047a7c60221008ca63759c1157ebeaec0d03cecca119fc9a75bf8e6d0fa65c841c8e2738cdaec\n"
     ]
    }
   ],
   "source": [
    "# Exercise 3\n",
    "\n",
    "from ecc import Signature\n",
    "\n",
    "r = 0x37206a0610995c58074999cb9767b87af4c4978db68c06e8e6e81d282047a7c6\n",
    "s = 0x8ca63759c1157ebeaec0d03cecca119fc9a75bf8e6d0fa65c841c8e2738cdaec\n",
    "\n",
    "\n",
    "sig=Signature(r,s)\n",
    "print(sig.der().hex())\n",
    "# print(sig.der())\n",
    "\n",
    "# 30 45\n",
    "# 02 20\n",
    "# 37206a0610995c58074999cb9767b87af4c4978db68c06e8e6e81d282047a7c6\n",
    "# 02 21\n",
    "# 00\n",
    "# 8ca63759c1157ebeaec0d03cecca119fc9a75bf8e6d0fa65c841c8e2738cdaec"
   ]
  },
  {
   "cell_type": "markdown",
   "metadata": {},
   "source": [
    "### Exercise 4\n",
    "\n",
    "Convert the following hex to binary and then to Base58:\n",
    "\n",
    "* `7c076ff316692a3d7eb3c3bb0f8b1488cf72e1afcd929e29307032997a838a3d`\n",
    "* `eff69ef2b1bd93a66ed5219add4fb51e11a840f404876325a1e8ffe0529a2c`\n",
    "* `c7207fee197d27c618aea621406f6bf5ef6fca38681d82b2f06fddbdce6feab6`"
   ]
  },
  {
   "cell_type": "code",
   "execution_count": 13,
   "metadata": {},
   "outputs": [
    {
     "name": "stdout",
     "output_type": "stream",
     "text": [
      "9MA8fRQrT4u8Zj8ZRd6MAiiyaxb2Y1CMpvVkHQu5hVM6\n",
      "4fE3H2E6XMp4SsxtwinF7w9a34ooUrwWe4WsW1458Pd\n",
      "EQJsjkd6JaGwxrjEhfeqPenqHwrBmPQZjJGNSCHBkcF7\n"
     ]
    }
   ],
   "source": [
    "# Exercise 4\n",
    "\n",
    "from helper import encode_base58\n",
    "\n",
    "# 7c076ff316692a3d7eb3c3bb0f8b1488cf72e1afcd929e29307032997a838a3d\n",
    "# eff69ef2b1bd93a66ed5219add4fb51e11a840f404876325a1e8ffe0529a2c\n",
    "# c7207fee197d27c618aea621406f6bf5ef6fca38681d82b2f06fddbdce6feab6\n",
    "\n",
    "\n",
    "# 7c076ff316692a3d7eb3c3bb0f8b1488cf72e1afcd929e29307032997a838a3d\n",
    "h = '7c076ff316692a3d7eb3c3bb0f8b1488cf72e1afcd929e29307032997a838a3d'\n",
    "print(encode_base58(bytes.fromhex(h)))\n",
    "\n",
    "# eff69ef2b1bd93a66ed5219add4fb51e11a840f404876325a1e8ffe0529a2c\n",
    "h = 'eff69ef2b1bd93a66ed5219add4fb51e11a840f404876325a1e8ffe0529a2c'\n",
    "print(encode_base58(bytes.fromhex(h)))\n",
    "\n",
    "# c7207fee197d27c618aea621406f6bf5ef6fca38681d82b2f06fddbdce6feab6\n",
    "h = 'c7207fee197d27c618aea621406f6bf5ef6fca38681d82b2f06fddbdce6feab6'\n",
    "print(encode_base58(bytes.fromhex(h)))"
   ]
  },
  {
   "cell_type": "code",
   "execution_count": 31,
   "metadata": {},
   "outputs": [
    {
     "name": "stdout",
     "output_type": "stream",
     "text": [
      "<class 'str'>\n",
      "44\n",
      "<class 'bytes'>\n",
      "32\n"
     ]
    }
   ],
   "source": [
    "test = encode_base58(bytes.fromhex(h))\n",
    "test2 = bytes.fromhex(h)\n",
    "print(type(test))\n",
    "print(len(test))\n",
    "print(type(test2))\n",
    "print(len(test2))"
   ]
  },
  {
   "cell_type": "markdown",
   "metadata": {},
   "source": [
    "### Exercise 5\n",
    "\n",
    "Find the address corresponding to Public Keys whose Private Key secrets are:\n",
    "\n",
    "* 5002 (use uncompressed SEC, on testnet)\n",
    "* \\\\(2020^{5}\\\\) (use compressed SEC, on testnet)\n",
    "* 0x12345deadbeef (use compressed SEC on mainnet)"
   ]
  },
  {
   "cell_type": "code",
   "execution_count": 33,
   "metadata": {},
   "outputs": [
    {
     "name": "stdout",
     "output_type": "stream",
     "text": [
      "mmTPbXQFxboEtNRkwfh6K51jvdtHLxGeMA\n",
      "mopVkxp8UhXqRYbCYJsbeE1h1fiF64jcoH\n",
      "1F1Pn2y6pDb68E5nYJJeba4TLg2U7B6KF1\n"
     ]
    }
   ],
   "source": [
    "# Exercise 5\n",
    "\n",
    "from ecc import PrivateKey\n",
    "\n",
    "# 5002 (use uncompressed SEC, on testnet)\n",
    "# 2020**5 (use compressed SEC, on testnet)\n",
    "# 0x12345deadbeef (use compressed SEC on mainnet)\n",
    "\n",
    "\n",
    "# 5002 (use uncompressed SEC, on testnet)\n",
    "priv=PrivateKey(5002)\n",
    "print(priv.point.address(compressed=False, testnet=True))\n",
    "\n",
    "# 2020**5 (use compressed SEC, on testnet)\n",
    "priv=PrivateKey(2020**5)\n",
    "print(priv.point.address(compressed=True, testnet=True))\n",
    "\n",
    "# 0x12345deadbeef (use compressed SEC on mainnet)\n",
    "priv=PrivateKey(0x12345deadbeef)\n",
    "print(priv.point.address(compressed=True, testnet=False))"
   ]
  },
  {
   "cell_type": "markdown",
   "metadata": {},
   "source": [
    "### Exercise 6\n",
    "\n",
    "Find the WIF for Private Key whose secrets are:\n",
    "\n",
    "* 5003 (compressed, testnet)\n",
    "* \\\\(2021^{5}\\\\) (uncompressed, testnet)\n",
    "* 0x54321deadbeef (compressed, mainnet)"
   ]
  },
  {
   "cell_type": "code",
   "execution_count": 34,
   "metadata": {},
   "outputs": [
    {
     "name": "stdout",
     "output_type": "stream",
     "text": [
      "cMahea7zqjxrtgAbB7LSGbcQUr1uX1ojuat9jZodMN8rFTv2sfUK\n",
      "91avARGdfge8E4tZfYLoxeJ5sGBdNJQH4kvjpWAxgzczjbCwxic\n",
      "KwDiBf89QgGbjEhKnhXJuH7LrciVrZi3qYjgiuQJv1h8Ytr2S53a\n"
     ]
    }
   ],
   "source": [
    "# Exercise 6\n",
    "\n",
    "from ecc import PrivateKey\n",
    "\n",
    "# 5003\n",
    "# 2021**5\n",
    "# 0x54321deadbeef\n",
    "\n",
    "# 5003\n",
    "priv=PrivateKey(5003)\n",
    "print(priv.wif(compressed=True, testnet=True))\n",
    "\n",
    "# 2021**5\n",
    "priv=PrivateKey(2021**5)\n",
    "print(priv.wif(compressed=False, testnet=True))\n",
    "\n",
    "# 0x54321deadbeef\n",
    "priv=PrivateKey(0x54321deadbeef)\n",
    "print(priv.wif(compressed=True, testnet=False))"
   ]
  },
  {
   "cell_type": "markdown",
   "metadata": {},
   "source": [
    "### Exercise 7\n",
    "\n",
    "Write a function `little_endian_to_int` which takes Python bytes, interprets those bytes in Little-Endian and returns the number.\n",
    "\n",
    "#### Make [this test](/edit/code-ch04/helper.py) pass: `helper.py:HelperTest:test_little_endian_to_int`"
   ]
  },
  {
   "cell_type": "code",
   "execution_count": 41,
   "metadata": {},
   "outputs": [
    {
     "name": "stderr",
     "output_type": "stream",
     "text": [
      ".\n",
      "----------------------------------------------------------------------\n",
      "Ran 1 test in 0.001s\n",
      "\n",
      "OK\n"
     ]
    }
   ],
   "source": [
    "# Exercise 7\n",
    "\n",
    "reload(helper)\n",
    "run(helper.HelperTest(\"test_little_endian_to_int\"))"
   ]
  },
  {
   "cell_type": "markdown",
   "metadata": {},
   "source": [
    "### Exercise 8\n",
    "\n",
    "Write a function `int_to_little_endian` which does the reverse of the last exercise.\n",
    "\n",
    "#### Make [this test](/edit/code-ch04/helper.py) pass: `helper.py:HelperTest:test_int_to_little_endian`"
   ]
  },
  {
   "cell_type": "code",
   "execution_count": 42,
   "metadata": {},
   "outputs": [
    {
     "name": "stderr",
     "output_type": "stream",
     "text": [
      ".\n",
      "----------------------------------------------------------------------\n",
      "Ran 1 test in 0.001s\n",
      "\n",
      "OK\n"
     ]
    }
   ],
   "source": [
    "# Exercise 8\n",
    "\n",
    "reload(helper)\n",
    "run(helper.HelperTest(\"test_int_to_little_endian\"))"
   ]
  },
  {
   "cell_type": "markdown",
   "metadata": {},
   "source": [
    "### Exercise 9\n",
    "\n",
    "Create a testnet address for yourself using a long secret that only you know. This is important as there are bots on testnet trying to steal testnet coins. Make sure you write this secret down somewhere! You will be using the secret later to sign Transactions."
   ]
  },
  {
   "cell_type": "code",
   "execution_count": 43,
   "metadata": {},
   "outputs": [],
   "source": [
    "# Exercise 9\n",
    "\n",
    "from ecc import PrivateKey\n",
    "from helper import hash256, little_endian_to_int\n",
    "\n",
    "# select a passphrase here, add your email address into the passphrase for security\n",
    "# passphrase = b'your@email.address some secret only you know'\n",
    "# secret = little_endian_to_int(hash256(passphrase))\n",
    "# create a private key using your secret\n",
    "# print an address from the public point of the private key with testnet=True"
   ]
  },
  {
   "cell_type": "code",
   "execution_count": 45,
   "metadata": {},
   "outputs": [
    {
     "name": "stdout",
     "output_type": "stream",
     "text": [
      "mhePDRF4ZQHpug4bJm8dikKKv5MVVHFpg4\n"
     ]
    }
   ],
   "source": [
    "passphrase = b'hooli HOOLI Chicken! Kapow!! 4893'\n",
    "secret = little_endian_to_int(hash256(passphrase))\n",
    "priv=PrivateKey(secret)\n",
    "print(priv.point.address(testnet=True))"
   ]
  },
  {
   "cell_type": "markdown",
   "metadata": {},
   "source": [
    "### used following for testnet faucet: https://coinfaucet.eu/en/btc-testnet/\n",
    "which was linked through this article: https://support.keys.casa/hc/en-us/articles/360047997611-Testnet-Bitcoin-TBTC-"
   ]
  },
  {
   "cell_type": "markdown",
   "metadata": {},
   "source": [
    "## Jimmy Song's book example"
   ]
  },
  {
   "cell_type": "code",
   "execution_count": 47,
   "metadata": {},
   "outputs": [],
   "source": [
    "# passphrase = b'jimmy@programmingblockchain.com my secret'\n",
    "# secret = little_endian_to_int(hash256(passphrase))\n",
    "# priv=PrivateKey(secret)\n",
    "# print(priv.point.address(testnet=True))"
   ]
  },
  {
   "cell_type": "code",
   "execution_count": null,
   "metadata": {},
   "outputs": [],
   "source": []
  }
 ],
 "metadata": {
  "kernelspec": {
   "display_name": "Python 3 (ipykernel)",
   "language": "python",
   "name": "python3"
  },
  "language_info": {
   "codemirror_mode": {
    "name": "ipython",
    "version": 3
   },
   "file_extension": ".py",
   "mimetype": "text/x-python",
   "name": "python",
   "nbconvert_exporter": "python",
   "pygments_lexer": "ipython3",
   "version": "3.10.9"
  }
 },
 "nbformat": 4,
 "nbformat_minor": 4
}
